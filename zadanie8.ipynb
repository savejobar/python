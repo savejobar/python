{
 "cells": [
  {
   "cell_type": "code",
   "execution_count": null,
   "id": "5d7ff953",
   "metadata": {},
   "outputs": [],
   "source": [
    "def funk(arg1, arg2, filename):\n",
    "    with open(filename) as f:\n",
    "        text = f.read()\n",
    "        new_text = text.replace(arg1, arg2)\n",
    "    with open(filename, 'w') as f:\n",
    "       f.write(new_text)\n",
    "    with open(filename) as f:\n",
    "        text_2 = f.read()\n",
    "    return text_2\n",
    "\n",
    "\n",
    "b = funk('A','O','skuchnaya-istoriya (1).txt')\n",
    "print(b)"
   ]
  },
  {
   "cell_type": "code",
   "execution_count": 184,
   "id": "a3569bfa",
   "metadata": {},
   "outputs": [
    {
     "name": "stdout",
     "output_type": "stream",
     "text": [
      "e;\t     p;\t\tP\n",
      "219298.24; 1.14; 0.45599999999999985\n",
      "219298.24; 1.2; 0.47999999999999987\n",
      "219298.24; 1.4; 0.5599999999999998\n",
      "219298.24; 1.8; 0.7199999999999999\n",
      "\n"
     ]
    }
   ],
   "source": [
    "e = 219298.24\n",
    "y = 1.4\n",
    "p = [1.14, 1.2, 1.4, 1.8]\n",
    "with open ('adiabata.txt', 'w') as file:\n",
    "        file.write(f'e;\\t     p;\\t\\tP\\n')\n",
    "        for i in p:\n",
    "                file.write(f'{e}; {i}; {i*(y-1)}\\n')\n",
    "with open ('adiabata.txt') as file:\n",
    "        b = file.read()\n",
    "print(b)"
   ]
  },
  {
   "cell_type": "code",
   "execution_count": 202,
   "id": "502d6b03",
   "metadata": {},
   "outputs": [
    {
     "name": "stdout",
     "output_type": "stream",
     "text": [
      "10\n"
     ]
    }
   ],
   "source": [
    "def fun(file1, arg):\n",
    "    with open (file1) as f:\n",
    "        content = f.read()\n",
    "        num = content.count(str(arg))\n",
    "    print(num)\n",
    "\n",
    "fun('adiabata.txt',1)"
   ]
  },
  {
   "cell_type": "code",
   "execution_count": 215,
   "id": "35512af0",
   "metadata": {},
   "outputs": [
    {
     "name": "stdout",
     "output_type": "stream",
     "text": [
      "Hello Word!\n"
     ]
    }
   ],
   "source": [
    "import pickle\n",
    "\n",
    "def fun2():\n",
    "    return 'Hello Word!'\n",
    "\n",
    "with open ('adiabata.txt', 'wb') as f:\n",
    "    pickle.dump(fun2(),f)\n",
    "\n",
    "with open ('adiabata.txt', 'rb') as f:\n",
    "    B = pickle.load(f)\n",
    "print(B)"
   ]
  }
 ],
 "metadata": {
  "kernelspec": {
   "display_name": "Python 3",
   "language": "python",
   "name": "python3"
  },
  "language_info": {
   "codemirror_mode": {
    "name": "ipython",
    "version": 3
   },
   "file_extension": ".py",
   "mimetype": "text/x-python",
   "name": "python",
   "nbconvert_exporter": "python",
   "pygments_lexer": "ipython3",
   "version": "3.11.9"
  }
 },
 "nbformat": 4,
 "nbformat_minor": 5
}
