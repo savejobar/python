{
 "cells": [
  {
   "cell_type": "markdown",
   "metadata": {},
   "source": [
    "## Определение функции, объявление, инициализация"
   ]
  },
  {
   "cell_type": "markdown",
   "metadata": {},
   "source": [
    "**Функция** – это фрагмент кода, который может быть вызван из любой части программы, расположенной *ниже объявленой функции*.  \n",
    "\n",
    "Основная задача функции состоит в оптимизации структуры программы путём выделения повторяющихся блоков в отдельные сегменты, что значительно облегчает ее читаемость и редактируемость.\n",
    "\n",
    "Как правило, функция принимает на вход некоторое количество **аргументов (переменных)** и возвращает одно или несколько значений. Впрочем, использование функций, не принимающих и не возвращающих никаких параметров, также возможно (в более классических языках программирования (например, `Fortran`) такие функции называются *процедурами* (subroutines))."
   ]
  },
  {
   "cell_type": "markdown",
   "metadata": {
    "id": "WQvv1_0Rnc5P"
   },
   "source": [
    "### Пример пользовательской функции"
   ]
  },
  {
   "cell_type": "code",
   "execution_count": 1,
   "metadata": {
    "executionInfo": {
     "elapsed": 404,
     "status": "ok",
     "timestamp": 1639922773645,
     "user": {
      "displayName": "Сергей Горкунов",
      "photoUrl": "https://lh3.googleusercontent.com/a/default-user=s64",
      "userId": "08484137194813432220"
     },
     "user_tz": -180
    },
    "id": "L23PjgxjnhwY"
   },
   "outputs": [],
   "source": [
    "# пользовательское определение функции возведения числа 'x' в степень 'n'\n",
    "def user_pow(x, n):\n",
    "    return x**n\n"
   ]
  },
  {
   "cell_type": "code",
   "execution_count": 2,
   "metadata": {
    "colab": {
     "base_uri": "https://localhost:8080/"
    },
    "executionInfo": {
     "elapsed": 5,
     "status": "ok",
     "timestamp": 1639922773932,
     "user": {
      "displayName": "Сергей Горкунов",
      "photoUrl": "https://lh3.googleusercontent.com/a/default-user=s64",
      "userId": "08484137194813432220"
     },
     "user_tz": -180
    },
    "id": "Xyz1iZdSnsxT",
    "outputId": "fb72a93c-cec6-43e6-a008-e29731778eff"
   },
   "outputs": [
    {
     "name": "stdout",
     "output_type": "stream",
     "text": [
      "25\n",
      "25\n"
     ]
    }
   ],
   "source": [
    "# проверка выполнения кода\n",
    "print(user_pow(5, 2))\n",
    "print(5**2)\n"
   ]
  },
  {
   "cell_type": "markdown",
   "metadata": {},
   "source": [
    "## Конструктивные элементы любой функции"
   ]
  },
  {
   "cell_type": "markdown",
   "metadata": {},
   "source": [
    "1. Ключевое слово `def` (от define – задать, определить), которое для интерпретатора означает: \"дальше будет тело функции\".\n",
    "2. Название функции (в примере выше это `user_pow`).\n",
    "3. Аргументы функции, разделенные запятыми и заключенные в круглые скобки (в примере это `x` и `n`).\n",
    "4. Двоеточие (\"ну все, теперь уже точно функция\").\n",
    "5. Тело функции – все команды, которые будут выполняться при вызове функции.\n",
    "6. Ключевое слово `return`, означающее завершение выполнения функции и возвращение ею одного или нескольких значений.\n",
    "\n",
    "Как и в случае циклов и условных конструкций, тело функции должно быть выделено табуляцией или четырьмя пробелами, в противном случае интерпретатор выдаст ошибку.\n",
    "\n",
    "Завершает функцию ключевое слово `return`, которое возвращает все объекты, записанные справа от него (в примере выше возвращается только один объект – результат математической операции `x ** n`).\n",
    "\n",
    "Нужно отметить, что использование инструкции `return` не является обязательным. Оно необходимо, когда функция должна возвращать некоторые значения. При отсутствии `return` функция неявно возвращает `None`.\n",
    "\n",
    "С другой стороны, ключевых слов `return` может быть несколько на всю функцию – например, если в ее теле есть условная конструкция, которая определяет, какое действие выполнять. При этом все, что написано после слова `return`, выполнено не будет – в некотором смысле это аналог команды `break` в циклах."
   ]
  },
  {
   "cell_type": "markdown",
   "metadata": {},
   "source": [
    "Иногда в процессе написании кода бывает необходимо создать \"заглушку\" функции, которая впоследствии будет дополняться, но на данный момент просто должна присутствовать в коде как его структурный элемент и ничего не делать. Для того, чтобы интерпретатор не выдал ошибку, такая функция все равно должна иметь имя, набор аргументов и тело. В этом случае, в качестве тела функции может быть использована инструкция `pass`:"
   ]
  },
  {
   "cell_type": "code",
   "execution_count": 3,
   "metadata": {},
   "outputs": [],
   "source": [
    "def my_func(a, b):\n",
    "    pass\n",
    "\n",
    "\n",
    "my_func(5, 145)\n"
   ]
  },
  {
   "cell_type": "markdown",
   "metadata": {
    "id": "RS9XszsoshcP"
   },
   "source": [
    "## Что может  возвращать функция?"
   ]
  },
  {
   "cell_type": "markdown",
   "metadata": {
    "id": "z-Y8WdEKsr9k"
   },
   "source": [
    "### 1. Ничего"
   ]
  },
  {
   "cell_type": "code",
   "execution_count": 4,
   "metadata": {
    "id": "A25SoeWWsyWt"
   },
   "outputs": [
    {
     "name": "stdout",
     "output_type": "stream",
     "text": [
      "Какой тип возвращает эта функция?\n",
      "None\n"
     ]
    },
    {
     "data": {
      "text/plain": [
       "NoneType"
      ]
     },
     "execution_count": 4,
     "metadata": {},
     "output_type": "execute_result"
    }
   ],
   "source": [
    "# определим функцию, печатающую в консоли значение\n",
    "# переданной ей переменной 'a':\n",
    "def nothing(a):\n",
    "    print(a)\n",
    "\n",
    "\n",
    "# вызовем функцию и запишем результат ее действия в переменную\n",
    "ans_nothing = nothing(\"Какой тип возвращает эта функция?\")\n",
    "\n",
    "# напечатаем результат выполнения функции\n",
    "print(ans_nothing)\n",
    "\n",
    "# теперь проверим тип данных на выходе\n",
    "type(ans_nothing)\n"
   ]
  },
  {
   "cell_type": "code",
   "execution_count": 5,
   "metadata": {
    "colab": {
     "base_uri": "https://localhost:8080/"
    },
    "executionInfo": {
     "elapsed": 9,
     "status": "ok",
     "timestamp": 1639900921082,
     "user": {
      "displayName": "Сергей Горкунов",
      "photoUrl": "https://lh3.googleusercontent.com/a/default-user=s64",
      "userId": "08484137194813432220"
     },
     "user_tz": -180
    },
    "id": "zMqhNCe5tfWh",
    "outputId": "a0d13602-13f5-408a-d986-de9dea165e4a"
   },
   "outputs": [
    {
     "data": {
      "text/plain": [
       "True"
      ]
     },
     "execution_count": 5,
     "metadata": {},
     "output_type": "execute_result"
    }
   ],
   "source": [
    "# ещё одна проверка типа выходных данных\n",
    "ans_nothing is None\n"
   ]
  },
  {
   "cell_type": "markdown",
   "metadata": {
    "id": "NoWJEHnkum8b"
   },
   "source": [
    "Функция, аналогичная `nothing(a)`:"
   ]
  },
  {
   "cell_type": "code",
   "execution_count": 6,
   "metadata": {
    "id": "iV6lc4Wjuxjk"
   },
   "outputs": [],
   "source": [
    "def nothingV2(a):\n",
    "    print(a)\n",
    "    return None\n"
   ]
  },
  {
   "cell_type": "markdown",
   "metadata": {
    "id": "6QbWemshvMz1"
   },
   "source": [
    "В этом случае мы явно указываем функции вернуть \"ничего\". В случаях, когда функция содержит несколько `return`, и один из них должен содержать \"ничего\", рекомендуется писать именно так, в явном виде.\n",
    "\n",
    "С другой стороны, некоторые программисты считают, что присутствие большого количества `return` в одной функции нежелательно, и гораздо лучше иметь лишь один – в конце тела функции, а в ветвлениях пользоваться присвоением и словом `break`.\n",
    "\n",
    "Мы не будем склоняться ни к тому, ни к другому варианту, и лишь заметим, что во всей программе нужно придерживаться единого стиля.\n",
    "\n",
    "Ключевое слово `None` также часто используется для задания значений аргументов функции по умолчанию. Это довольно уникальный объект, поскольку он всегда существует в памяти только в одном экземпляре.\n",
    "\n",
    "**Будьте внимательны: `None` и `\"None\"` – это разные объекты!**"
   ]
  },
  {
   "cell_type": "markdown",
   "metadata": {
    "id": "nKIppV0qv76A"
   },
   "source": [
    "### 2. Один объект"
   ]
  },
  {
   "cell_type": "markdown",
   "metadata": {},
   "source": [
    "Определим функцию, возвращающую переменную `obj`:  "
   ]
  },
  {
   "cell_type": "code",
   "execution_count": 7,
   "metadata": {
    "id": "k3QXOCJLwQfZ"
   },
   "outputs": [],
   "source": [
    "def one_obj(obj):\n",
    "    return obj\n"
   ]
  },
  {
   "cell_type": "markdown",
   "metadata": {},
   "source": [
    "Пример: на входе – целое число.  "
   ]
  },
  {
   "cell_type": "code",
   "execution_count": 8,
   "metadata": {},
   "outputs": [
    {
     "name": "stdout",
     "output_type": "stream",
     "text": [
      "1\n"
     ]
    },
    {
     "data": {
      "text/plain": [
       "int"
      ]
     },
     "execution_count": 8,
     "metadata": {},
     "output_type": "execute_result"
    }
   ],
   "source": [
    "a = one_obj(1)\n",
    "print(a)\n",
    "type(a)\n"
   ]
  },
  {
   "cell_type": "markdown",
   "metadata": {},
   "source": [
    "Пример: на входе – словарь.  "
   ]
  },
  {
   "cell_type": "code",
   "execution_count": 9,
   "metadata": {
    "colab": {
     "base_uri": "https://localhost:8080/"
    },
    "executionInfo": {
     "elapsed": 409,
     "status": "ok",
     "timestamp": 1639903571177,
     "user": {
      "displayName": "Сергей Горкунов",
      "photoUrl": "https://lh3.googleusercontent.com/a/default-user=s64",
      "userId": "08484137194813432220"
     },
     "user_tz": -180
    },
    "id": "ZPPLFGOCzhmm",
    "outputId": "a3f4c0d0-07c4-48b2-ad13-f03d08595056"
   },
   "outputs": [
    {
     "name": "stdout",
     "output_type": "stream",
     "text": [
      "{4: '007', 'dog': 16}\n"
     ]
    },
    {
     "data": {
      "text/plain": [
       "dict"
      ]
     },
     "execution_count": 9,
     "metadata": {},
     "output_type": "execute_result"
    }
   ],
   "source": [
    "b = one_obj({4: \"007\", \"dog\": 16})\n",
    "print(b)\n",
    "type(b)\n"
   ]
  },
  {
   "cell_type": "markdown",
   "metadata": {},
   "source": [
    "В качестве аргумента функции может быть и другая функция.  "
   ]
  },
  {
   "cell_type": "code",
   "execution_count": 10,
   "metadata": {
    "colab": {
     "base_uri": "https://localhost:8080/"
    },
    "executionInfo": {
     "elapsed": 11,
     "status": "ok",
     "timestamp": 1639902579541,
     "user": {
      "displayName": "Сергей Горкунов",
      "photoUrl": "https://lh3.googleusercontent.com/a/default-user=s64",
      "userId": "08484137194813432220"
     },
     "user_tz": -180
    },
    "id": "fPmSSS16yHBT",
    "outputId": "6a5b8526-b971-4e87-f611-9c8f7c3f7354"
   },
   "outputs": [
    {
     "name": "stdout",
     "output_type": "stream",
     "text": [
      "<function nothing at 0x7f69282ce560>\n"
     ]
    },
    {
     "data": {
      "text/plain": [
       "function"
      ]
     },
     "execution_count": 10,
     "metadata": {},
     "output_type": "execute_result"
    }
   ],
   "source": [
    "c = one_obj(nothing)\n",
    "print(c)\n",
    "type(c)\n"
   ]
  },
  {
   "cell_type": "markdown",
   "metadata": {},
   "source": [
    "Подумайте сами: что происходит в следующем примере?  "
   ]
  },
  {
   "cell_type": "code",
   "execution_count": 11,
   "metadata": {
    "colab": {
     "base_uri": "https://localhost:8080/"
    },
    "executionInfo": {
     "elapsed": 12,
     "status": "ok",
     "timestamp": 1639903381143,
     "user": {
      "displayName": "Сергей Горкунов",
      "photoUrl": "https://lh3.googleusercontent.com/a/default-user=s64",
      "userId": "08484137194813432220"
     },
     "user_tz": -180
    },
    "id": "txYBQSqcyVb8",
    "outputId": "1d1c00da-9fa0-4e61-b13c-12d84ee48ee8"
   },
   "outputs": [
    {
     "name": "stdout",
     "output_type": "stream",
     "text": [
      "Как это работает? Чему равно \"d\" и какой у нее тип?\n"
     ]
    }
   ],
   "source": [
    "d = one_obj(nothing('Как это работает? Чему равно \"d\" и какой у нее тип?'))\n",
    "\n",
    "# раскомментируйте строки внизу, чтобы проверить свой ответ\n",
    "#print(d)\n",
    "#type(d)\n"
   ]
  },
  {
   "cell_type": "markdown",
   "metadata": {
    "id": "vlg429L83x99"
   },
   "source": [
    "### 3. Несколько объектов"
   ]
  },
  {
   "cell_type": "markdown",
   "metadata": {},
   "source": [
    "Определим функцию, принимающую три аргумента:"
   ]
  },
  {
   "cell_type": "code",
   "execution_count": 12,
   "metadata": {
    "id": "6TDLhX4s32gX"
   },
   "outputs": [],
   "source": [
    "def several_obj(obj1, obj2, obj3):\n",
    "    print(obj1, obj2, obj3)\n",
    "    return obj1, obj2, obj3\n"
   ]
  },
  {
   "cell_type": "markdown",
   "metadata": {},
   "source": [
    "Запишем результат ее выполнения в одну переменную `a`. Обратите внимание, что по определению сверху функция будет возвращать три величины, и все они должны быть записаны в одну переменную. При таком определении в переменной `a` будет по умолчанию записан кортеж из трех величин."
   ]
  },
  {
   "cell_type": "code",
   "execution_count": 13,
   "metadata": {
    "colab": {
     "base_uri": "https://localhost:8080/"
    },
    "executionInfo": {
     "elapsed": 8,
     "status": "ok",
     "timestamp": 1639904319052,
     "user": {
      "displayName": "Сергей Горкунов",
      "photoUrl": "https://lh3.googleusercontent.com/a/default-user=s64",
      "userId": "08484137194813432220"
     },
     "user_tz": -180
    },
    "id": "62LAnxRy4-Au",
    "outputId": "ef1e67e2-014e-4d97-955c-9a689adc360f"
   },
   "outputs": [
    {
     "name": "stdout",
     "output_type": "stream",
     "text": [
      "1 Hello! <function nothing at 0x7f69282ce560>\n"
     ]
    },
    {
     "data": {
      "text/plain": [
       "tuple"
      ]
     },
     "execution_count": 13,
     "metadata": {},
     "output_type": "execute_result"
    }
   ],
   "source": [
    "a = several_obj(1, \"Hello!\", nothing)\n",
    "type(a)\n"
   ]
  },
  {
   "cell_type": "markdown",
   "metadata": {},
   "source": [
    "Можно заставить функцию выдавать список вместо кортежа:"
   ]
  },
  {
   "cell_type": "code",
   "execution_count": 14,
   "metadata": {},
   "outputs": [
    {
     "name": "stdout",
     "output_type": "stream",
     "text": [
      "1 two 3.0\n"
     ]
    },
    {
     "data": {
      "text/plain": [
       "list"
      ]
     },
     "execution_count": 14,
     "metadata": {},
     "output_type": "execute_result"
    }
   ],
   "source": [
    "def several_obj1(obj1, obj2, obj3):\n",
    "    print(obj1, obj2, obj3)\n",
    "    return [obj1, obj2, obj3]\n",
    "\n",
    "\n",
    "type(several_obj1(1, 'two', 3e0))\n",
    "# заметьте, что \"print\" внутри функции все равно был выполнен,\n",
    "# притом ДО \"type\", несмотря на то, что отдельно мы ее не вызывали!\n"
   ]
  },
  {
   "cell_type": "markdown",
   "metadata": {},
   "source": [
    "Обратите внимание на общую рекомендацию по оформлению функций. Согласно [PEP 8](https://peps.python.org/pep-0008/), блок, объявляющий функцию, должен быть отделен от остальных частей программы двумя пустыми строками – как сверху, так и снизу. Внутри тела функции допускаются пустые строки, если они помогают визуально разделить логически разные блоки."
   ]
  },
  {
   "cell_type": "markdown",
   "metadata": {
    "id": "ljHxxX5b6NQU"
   },
   "source": [
    "##### Хранение вывода функции\n",
    "Для хранения результата выполнения функции, возвращающей несколько переменных, можно использовать несколько подходов. Независимо от того, каким способом вы будете пользоваться, важно помнить, что возвращаемый функцией результат – это последовательность, и к ней могут применяться все методы, рассмотренные нами на одном из предыдущих занятий."
   ]
  },
  {
   "cell_type": "markdown",
   "metadata": {
    "id": "j3ga5faL7Ysq"
   },
   "source": [
    "1. **Первый способ** – уже рассмотренное выше неявное сохранение результата выполнения функции в кортеж"
   ]
  },
  {
   "cell_type": "code",
   "execution_count": 15,
   "metadata": {
    "colab": {
     "base_uri": "https://localhost:8080/"
    },
    "executionInfo": {
     "elapsed": 11,
     "status": "ok",
     "timestamp": 1639904903676,
     "user": {
      "displayName": "Сергей Горкунов",
      "photoUrl": "https://lh3.googleusercontent.com/a/default-user=s64",
      "userId": "08484137194813432220"
     },
     "user_tz": -180
    },
    "id": "v0_VHB7S7aCw",
    "outputId": "98792a93-b34a-4583-cdfa-32915c0081c3"
   },
   "outputs": [
    {
     "name": "stdout",
     "output_type": "stream",
     "text": [
      "1 Hello <function nothing at 0x7f69282ce560>\n",
      "\n",
      "RESULTS: 1 Hello <function nothing at 0x7f69282ce560>\n",
      "function 1 done\n",
      "~~~\n",
      "2 bye <function nothing at 0x7f69282ce560>\n",
      "\n",
      "2\n"
     ]
    }
   ],
   "source": [
    "b = several_obj(1, \"Hello\", nothing)  # получить кортеж и работать с ним\n",
    "print()\n",
    "print('RESULTS:', b[0], b[1], b[2])\n",
    "print('function 1 done')\n",
    "\n",
    "print('~~~')\n",
    "print('\\n', several_obj(2, 'bye', nothing)[0], sep='')\n",
    "# обратите внимание, куда вставилась пустая строка '\\n'!\n"
   ]
  },
  {
   "cell_type": "markdown",
   "metadata": {
    "id": "mA-_4W7z7mWD"
   },
   "source": [
    "2. **Второй способ** – позиционное присваивание переменных (используется чаще всего)"
   ]
  },
  {
   "cell_type": "code",
   "execution_count": 16,
   "metadata": {
    "colab": {
     "base_uri": "https://localhost:8080/"
    },
    "executionInfo": {
     "elapsed": 13,
     "status": "ok",
     "timestamp": 1639904825251,
     "user": {
      "displayName": "Сергей Горкунов",
      "photoUrl": "https://lh3.googleusercontent.com/a/default-user=s64",
      "userId": "08484137194813432220"
     },
     "user_tz": -180
    },
    "id": "InU_hQI-71EA",
    "outputId": "68472de2-a463-485d-de4b-ad5129cb9db3"
   },
   "outputs": [
    {
     "name": "stdout",
     "output_type": "stream",
     "text": [
      "1 Hello <function nothing at 0x7f69282ce560>\n",
      "\n",
      "1\n",
      "Hello\n",
      "<function nothing at 0x7f69282ce560>\n"
     ]
    }
   ],
   "source": [
    "# передаем значения кортежа сразу в переменные по отдельности\n",
    "a1, a2, a3 = several_obj(1, \"Hello\", nothing)\n",
    "print()\n",
    "print(a1, a2, a3, sep='\\n')\n"
   ]
  },
  {
   "cell_type": "markdown",
   "metadata": {},
   "source": [
    "##### Понятие распаковки и упаковки списка\n",
    "Если бы в примере выше мы указали не три переменные `a1, a2, a3`, а случайно упустили одну из них, интерпретатор бы выдал ошибку. Убедитесь в этом самостоятельно. Но что, если нам нужно сохранить отдельно только первый элемент результата действия функции, а остальные \"свалить в кучу\"?\n",
    "\n",
    "В этом снова поможет позиционное присваивание, при котором можно пользоваться **упаковкой** (packing) результата выполнения функции в один из элементов кортежа. Для этого перед переменной, в которую планируется упаковать несколько значений, ставится звездочка `*`. Для интерпретатора это означает: \"Разверни оставшиеся после предыдущих присваиваний элементы последовательности в виде *списка* и запиши их в такую-то переменную\".\n",
    "\n",
    "В примере ниже результат выполнения функции содержит кортеж из трех объектов, а записать их предлагается в две переменные: `b1` и `b2`. При позиционном присваивании в каждую переменную записывается по одному значению. В переменную `b1` при этом запишется первый элемент кортежа, а на \"долю\" `b2` останется два. При упаковке будет создан список, в который будут записаны оставшиеся два элемента в том же порядке, и в переменную `b2` будет записана ссылка на этот список."
   ]
  },
  {
   "cell_type": "code",
   "execution_count": 17,
   "metadata": {},
   "outputs": [
    {
     "name": "stdout",
     "output_type": "stream",
     "text": [
      "1 Hello <function nothing at 0x7f69282ce560>\n",
      "\n",
      "1 <class 'int'>\n",
      "['Hello', <function nothing at 0x7f69282ce560>] <class 'list'>\n"
     ]
    }
   ],
   "source": [
    "b1, *b2 = several_obj(1, \"Hello\", nothing)\n",
    "print()\n",
    "\n",
    "print(b1, type(b1))\n",
    "print(b2, type(b2))\n"
   ]
  },
  {
   "cell_type": "markdown",
   "metadata": {},
   "source": [
    "Данный способ будет работать и если словарь будет упаковываться в переменную `b1` вместо `b2`. В этом случае распределение значений идет как бы справа налево."
   ]
  },
  {
   "cell_type": "code",
   "execution_count": 18,
   "metadata": {},
   "outputs": [
    {
     "name": "stdout",
     "output_type": "stream",
     "text": [
      "1 Hello <function nothing at 0x7f69282ce560>\n",
      "\n",
      "[1, 'Hello'] <class 'list'>\n",
      "<function nothing at 0x7f69282ce560> <class 'function'>\n"
     ]
    }
   ],
   "source": [
    "*b1, b2 = several_obj(1, \"Hello\", nothing)\n",
    "print()\n",
    "\n",
    "print(b1, type(b1))\n",
    "print(b2, type(b2))\n"
   ]
  },
  {
   "cell_type": "markdown",
   "metadata": {},
   "source": [
    "Где есть упаковка, есть и **распаковка** (unpacking). С помощью той же звездочки `*` можно распаковывать содержимое списка – например, при передаче аргументов в функцию или при компоновке нового сборного списка."
   ]
  },
  {
   "cell_type": "code",
   "execution_count": 19,
   "metadata": {},
   "outputs": [
    {
     "name": "stdout",
     "output_type": "stream",
     "text": [
      "1 Hello <function nothing at 0x7f69282ce560>\n",
      "(1, 'Hello', <function nothing at 0x7f69282ce560>)\n",
      "['function results:', 1, 'Hello', <function nothing at 0x7f69282ce560>, 'this works nice']\n",
      "5\n"
     ]
    }
   ],
   "source": [
    "c1 = several_obj(*b1, b2)  # в функцию по-прежнему передано три аргумента\n",
    "print(c1)\n",
    "\n",
    "d1 = ['function results:', *c1, 'this works nice']\n",
    "print(d1)\n",
    "print(len(d1))\n"
   ]
  },
  {
   "cell_type": "markdown",
   "metadata": {},
   "source": [
    "И упаковка, и распаковка, – работают не только на списках: их можно использовать для **любых** итерируемых объектов (последовательностей):"
   ]
  },
  {
   "cell_type": "code",
   "execution_count": 20,
   "metadata": {},
   "outputs": [
    {
     "name": "stdout",
     "output_type": "stream",
     "text": [
      "0 1 2\n",
      "(0, 1, 2)\n"
     ]
    }
   ],
   "source": [
    "e1 = several_obj(*range(3))\n",
    "print(e1)\n"
   ]
  },
  {
   "cell_type": "markdown",
   "metadata": {
    "id": "4lDkfRzg9C4w"
   },
   "source": [
    "### 4. Возвращать значение функции в зависимости от ветвления тела функции"
   ]
  },
  {
   "cell_type": "markdown",
   "metadata": {
    "id": "acbUNY6hbQEi"
   },
   "source": [
    "Рассмотрим функцию, принимающую два аргумента: `text` и `line`. Если оба аргумента имеют тип данных \"строка\", то функция должна добавить строку `line` в строку `text` (в конец, с новой строки). При этом, если в конце текста уже есть пустая строка, `line` нужно вписать в нее. Если же в качестве аргументов передается не строка, а некий другой тип данных, то должна возникнуть ошибка."
   ]
  },
  {
   "cell_type": "code",
   "execution_count": 21,
   "metadata": {
    "id": "BTTRHNfN9KCj"
   },
   "outputs": [],
   "source": [
    "def add_line_to_text(text, line):\n",
    "    if not (isinstance(text, str) and isinstance(line, str)):\n",
    "        print(\"Ошибка! Аргументы 'text' и 'line' должны быть строками!\")\n",
    "        return None\n",
    "    else:\n",
    "        if text and text[-1] != '\\n':\n",
    "            text += '\\n'\n",
    "\n",
    "        return text + line\n"
   ]
  },
  {
   "cell_type": "markdown",
   "metadata": {},
   "source": [
    "Разберем немного данный код.\n",
    "1. Поскольку и `text`, и `line`, – должны быть строками, то невыполнение хотя бы одного из этих условий должно вызывать ошибку. Проверка принадлежности переменной типу данных `str` (точнее того, является ли данная переменная объектом класса `str`) проверяется с помощью функции `isinstance()`, которая возвращает логическое значение (`True` или `False`).\n",
    "2. Строка `text` может быть абсолютно любой, в том числе пустой. Если текст пустой, к нему не нужно добавлять новую строку, чтобы в ее конец вставить `line`. Если текст уже содержит в конце символ перевода строки, то новую строку также не нужно добавлять. Все эти условия нужно проверять перед тем, как выполнить действие.\n",
    "\n",
    "На втором занятии мы уже сталкивались с тем, что логическая истинность чисел или строк определяется их равенством или неравенством нулю. Так, если в переменной записана пустая строка, ее сравнение с логической единицей (`True`) даст ложь. Для краткости (и согласно PEP 8) такую проверку переменной `text` можно сделать просто: `if text`. Если текст пуст, результат будет `False`, в противном случае – `True`."
   ]
  },
  {
   "cell_type": "markdown",
   "metadata": {
    "id": "TMe0C_0wKtJq"
   },
   "source": [
    "Примеры возвращения разных значений в зависимости от ветвления функции:"
   ]
  },
  {
   "cell_type": "code",
   "execution_count": 22,
   "metadata": {
    "colab": {
     "base_uri": "https://localhost:8080/",
     "height": 54
    },
    "executionInfo": {
     "elapsed": 805,
     "status": "ok",
     "timestamp": 1639908611302,
     "user": {
      "displayName": "Сергей Горкунов",
      "photoUrl": "https://lh3.googleusercontent.com/a/default-user=s64",
      "userId": "08484137194813432220"
     },
     "user_tz": -180
    },
    "id": "--QtT5p7AOFj",
    "outputId": "996d9dbc-794a-4f89-d61f-dc26b097a8c0"
   },
   "outputs": [
    {
     "name": "stdout",
     "output_type": "stream",
     "text": [
      "Ошибка! Аргументы 'text' и 'line' должны быть строками!\n"
     ]
    }
   ],
   "source": [
    "add_line_to_text(\"\", 5)\n"
   ]
  },
  {
   "cell_type": "code",
   "execution_count": 23,
   "metadata": {
    "colab": {
     "base_uri": "https://localhost:8080/"
    },
    "executionInfo": {
     "elapsed": 537,
     "status": "ok",
     "timestamp": 1639907104557,
     "user": {
      "displayName": "Сергей Горкунов",
      "photoUrl": "https://lh3.googleusercontent.com/a/default-user=s64",
      "userId": "08484137194813432220"
     },
     "user_tz": -180
    },
    "id": "9rhp98BTFFhv",
    "outputId": "f8c2531a-7422-4df3-ca0e-b119f4fec796"
   },
   "outputs": [
    {
     "name": "stdout",
     "output_type": "stream",
     "text": [
      "Ошибка! Аргументы 'text' и 'line' должны быть строками!\n"
     ]
    }
   ],
   "source": [
    "add_line_to_text(5, \"\")\n"
   ]
  },
  {
   "cell_type": "code",
   "execution_count": 24,
   "metadata": {
    "colab": {
     "base_uri": "https://localhost:8080/",
     "height": 37
    },
    "executionInfo": {
     "elapsed": 41,
     "status": "ok",
     "timestamp": 1639907039047,
     "user": {
      "displayName": "Сергей Горкунов",
      "photoUrl": "https://lh3.googleusercontent.com/a/default-user=s64",
      "userId": "08484137194813432220"
     },
     "user_tz": -180
    },
    "id": "hV_LLoL2EsQu",
    "outputId": "5949a2a0-9255-467f-a115-8e0c322657b8"
   },
   "outputs": [
    {
     "name": "stdout",
     "output_type": "stream",
     "text": [
      "1 строка\n",
      "\n",
      "предыдущая строка\n",
      "1 строка\n",
      "\n",
      "тут была строка\n",
      "1 строка\n"
     ]
    }
   ],
   "source": [
    "print(add_line_to_text(\"\", \"1 строка\"))\n",
    "print()\n",
    "\n",
    "print(add_line_to_text(\"предыдущая строка\", \"1 строка\"))\n",
    "print()\n",
    "\n",
    "print(add_line_to_text(\"тут была строка\\n\", \"1 строка\"))\n"
   ]
  },
  {
   "cell_type": "markdown",
   "metadata": {
    "id": "9lpOkP4wLuV5"
   },
   "source": [
    "Разовьем пример выше и рассмотрим нашу функцию в действии. Пусть у нас имеется список строк, и мы хотим объединить их в один текст. Сначала создадим такой список:"
   ]
  },
  {
   "cell_type": "code",
   "execution_count": 25,
   "metadata": {
    "id": "DGRn8iKuL9FH"
   },
   "outputs": [
    {
     "data": {
      "text/plain": [
       "['1 строка',\n",
       " '2 строка',\n",
       " '3 строка',\n",
       " '4 строка',\n",
       " '5 строка',\n",
       " '6 строка',\n",
       " '7 строка',\n",
       " '8 строка',\n",
       " '9 строка']"
      ]
     },
     "execution_count": 25,
     "metadata": {},
     "output_type": "execute_result"
    }
   ],
   "source": [
    "list_of_strings = []\n",
    "for i in range(1, 10):\n",
    "    list_of_strings.append(str(i) + \" строка\")\n",
    "    \n",
    "# обратите внимание на конкатенацию: чтобы она была возможна,\n",
    "# нужно преобразовать i в строку\n",
    "\n",
    "list_of_strings\n"
   ]
  },
  {
   "cell_type": "markdown",
   "metadata": {},
   "source": [
    "А теперь соберем эти строки в текст"
   ]
  },
  {
   "cell_type": "code",
   "execution_count": 26,
   "metadata": {
    "id": "x41_FuOA_bWM"
   },
   "outputs": [
    {
     "name": "stdout",
     "output_type": "stream",
     "text": [
      "1 строка\n",
      "2 строка\n",
      "3 строка\n",
      "4 строка\n",
      "5 строка\n",
      "6 строка\n",
      "7 строка\n",
      "8 строка\n",
      "9 строка\n"
     ]
    }
   ],
   "source": [
    "text = \"\"\n",
    "for string in list_of_strings:\n",
    "    text = add_line_to_text(text, string)\n",
    "\n",
    "print(text)\n"
   ]
  },
  {
   "cell_type": "markdown",
   "metadata": {
    "id": "UUW3IolkNEkR"
   },
   "source": [
    "## Аргументы функции"
   ]
  },
  {
   "cell_type": "markdown",
   "metadata": {},
   "source": [
    "Выше мы обсудили, что при задании функции пользователь может определить ряд входных параметров – аргументов функции.\n",
    "\n",
    "Аргументы функции делятся на обязательные и необязательные. Рассмотрим использование каждого типа."
   ]
  },
  {
   "cell_type": "markdown",
   "metadata": {},
   "source": [
    "### Обязательные аргументы"
   ]
  },
  {
   "cell_type": "markdown",
   "metadata": {},
   "source": [
    "Обязательными являются все аргументы, перечисленные в определении функции без указания их значения по умолчанию. Все аргументы, которые мы приводили при задании функций до сих пор, были обязательными."
   ]
  },
  {
   "cell_type": "markdown",
   "metadata": {},
   "source": [
    "Уже рассмотренный нами пример функции с двумя обязательными аргументами:"
   ]
  },
  {
   "cell_type": "code",
   "execution_count": 27,
   "metadata": {
    "id": "K2JFF2DRNHpX"
   },
   "outputs": [
    {
     "name": "stdout",
     "output_type": "stream",
     "text": [
      "32\n"
     ]
    }
   ],
   "source": [
    "def user_pow_v2(arg, pwr):\n",
    "    return arg**pwr\n",
    "\n",
    "\n",
    "print(user_pow_v2(2, 5))\n"
   ]
  },
  {
   "cell_type": "markdown",
   "metadata": {},
   "source": [
    "При таком вызове функции аргументу `arg` передается значение 2, а аргументу `pwr` – значение 5. Такие аргументы называются **позиционными**, поскольку значения присваиваются согласно порядку следования. Если бы мы поменяли местами числа так:\n",
    "~~~python\n",
    "print(user_pow_v2(5, 2))\n",
    "~~~\n",
    "то получили бы иной ответ, поскольку теперь `arg` равнялся бы 5, а `pwr` – 2.\n",
    "\n",
    "При вызове функции все обязательные переменные должны быть заданы. При попытке вызвать функцию с неполным набором обязательных аргументов интерпретатор выдаст ошибку:"
   ]
  },
  {
   "cell_type": "code",
   "execution_count": 28,
   "metadata": {},
   "outputs": [
    {
     "ename": "TypeError",
     "evalue": "user_pow_v2() missing 1 required positional argument: 'pwr'",
     "output_type": "error",
     "traceback": [
      "\u001b[0;31m---------------------------------------------------------------------------\u001b[0m",
      "\u001b[0;31mTypeError\u001b[0m                                 Traceback (most recent call last)",
      "\u001b[0;32m/tmp/ipykernel_1806184/919010721.py\u001b[0m in \u001b[0;36m<module>\u001b[0;34m\u001b[0m\n\u001b[0;32m----> 1\u001b[0;31m \u001b[0muser_pow_v2\u001b[0m\u001b[0;34m(\u001b[0m\u001b[0;36m2\u001b[0m\u001b[0;34m)\u001b[0m\u001b[0;34m\u001b[0m\u001b[0;34m\u001b[0m\u001b[0m\n\u001b[0m",
      "\u001b[0;31mTypeError\u001b[0m: user_pow_v2() missing 1 required positional argument: 'pwr'"
     ]
    }
   ],
   "source": [
    "user_pow_v2(2)\n"
   ]
  },
  {
   "cell_type": "markdown",
   "metadata": {},
   "source": [
    "При инициализации обязательных аргументов может использоваться так называемое присваивание по ключу. При этом нужно явно указывать имя задаваемого аргумента и значение, которое ему передается. Пример присваивания по ключу:"
   ]
  },
  {
   "cell_type": "code",
   "execution_count": 29,
   "metadata": {
    "colab": {
     "base_uri": "https://localhost:8080/"
    },
    "executionInfo": {
     "elapsed": 301,
     "status": "ok",
     "timestamp": 1639912221580,
     "user": {
      "displayName": "Сергей Горкунов",
      "photoUrl": "https://lh3.googleusercontent.com/a/default-user=s64",
      "userId": "08484137194813432220"
     },
     "user_tz": -180
    },
    "id": "y7kQqFjRYmDp",
    "outputId": "9544ad97-9038-45d9-8e67-ecf47e80bb89"
   },
   "outputs": [
    {
     "data": {
      "text/plain": [
       "32"
      ]
     },
     "execution_count": 29,
     "metadata": {},
     "output_type": "execute_result"
    }
   ],
   "source": [
    "user_pow_v2(arg=2, pwr=5)\n"
   ]
  },
  {
   "cell_type": "markdown",
   "metadata": {},
   "source": [
    "Такие аргументы называются **именованными**. Теперь, поскольку каждый аргумент прописан явно, порядок их следования оказывается неважен:"
   ]
  },
  {
   "cell_type": "code",
   "execution_count": 30,
   "metadata": {},
   "outputs": [
    {
     "data": {
      "text/plain": [
       "32"
      ]
     },
     "execution_count": 30,
     "metadata": {},
     "output_type": "execute_result"
    }
   ],
   "source": [
    "user_pow_v2(pwr=5, arg=2)\n"
   ]
  },
  {
   "cell_type": "markdown",
   "metadata": {},
   "source": [
    "При этом все обязательные переменные, как мы обсуждали выше, должны быть инициализированы. Убедитесь в этом сами."
   ]
  },
  {
   "cell_type": "markdown",
   "metadata": {
    "id": "7a-mVGKDZG90"
   },
   "source": [
    "### Необязательные аргументы"
   ]
  },
  {
   "cell_type": "markdown",
   "metadata": {},
   "source": [
    "Необязательными называются аргументы, которым по умолчанию присваиваются некоторые заранее определенные значения прямо в определении функции. Если при вызове функции не задать такой аргумент явно, он примет значение по умолчанию, в противном случае – заданное значение.\n",
    "\n",
    "Превратим рассмотренный выше пример в функцию с одним обязательным и одним необязательным аргументами:"
   ]
  },
  {
   "cell_type": "code",
   "execution_count": 31,
   "metadata": {
    "id": "cxo6YqL3ZO7n"
   },
   "outputs": [],
   "source": [
    "def user_pow_v3(arg, pwr=2):\n",
    "    return arg**pwr\n"
   ]
  },
  {
   "cell_type": "markdown",
   "metadata": {
    "id": "6VywZFwBZVS2"
   },
   "source": [
    "Обратите внимание на то, что для аргумента `pwr` указано значение 2 по умолчанию. Если вызвать функцию с заданием только одного аргумента, функция возведет аргумент в степень 2:"
   ]
  },
  {
   "cell_type": "code",
   "execution_count": 32,
   "metadata": {
    "colab": {
     "base_uri": "https://localhost:8080/"
    },
    "executionInfo": {
     "elapsed": 438,
     "status": "ok",
     "timestamp": 1639912480487,
     "user": {
      "displayName": "Сергей Горкунов",
      "photoUrl": "https://lh3.googleusercontent.com/a/default-user=s64",
      "userId": "08484137194813432220"
     },
     "user_tz": -180
    },
    "id": "EuE_REMuZmD2",
    "outputId": "868dc324-43cf-49c5-fd56-eb1187104b52"
   },
   "outputs": [
    {
     "data": {
      "text/plain": [
       "25"
      ]
     },
     "execution_count": 32,
     "metadata": {},
     "output_type": "execute_result"
    }
   ],
   "source": [
    "user_pow_v3(5)\n"
   ]
  },
  {
   "cell_type": "markdown",
   "metadata": {
    "id": "jxZeZtKPf5zJ"
   },
   "source": [
    "При передаче двух аргументов значение по умолчанию не используется."
   ]
  },
  {
   "cell_type": "code",
   "execution_count": 33,
   "metadata": {
    "colab": {
     "base_uri": "https://localhost:8080/"
    },
    "executionInfo": {
     "elapsed": 297,
     "status": "ok",
     "timestamp": 1639912496534,
     "user": {
      "displayName": "Сергей Горкунов",
      "photoUrl": "https://lh3.googleusercontent.com/a/default-user=s64",
      "userId": "08484137194813432220"
     },
     "user_tz": -180
    },
    "id": "ynBMkHSCZptK",
    "outputId": "490b0d40-2ec3-4d0d-bebe-a90aa3ca4e59"
   },
   "outputs": [
    {
     "name": "stdout",
     "output_type": "stream",
     "text": [
      "125\n",
      "243\n"
     ]
    }
   ],
   "source": [
    "print(user_pow_v3(5, 3))\n",
    "print(user_pow_v3(pwr=5, arg=3))  # что изменилось?\n"
   ]
  },
  {
   "cell_type": "markdown",
   "metadata": {},
   "source": [
    "Существует два важных правила работы с аргументами функции:\n",
    "1. **В объявлении функции** *первыми всегда идут обязательные аргументы*, и лишь затем – необязательные. При попытке переставить аргументы интерпретатор выдаст ошибку:"
   ]
  },
  {
   "cell_type": "code",
   "execution_count": 34,
   "metadata": {},
   "outputs": [
    {
     "ename": "SyntaxError",
     "evalue": "non-default argument follows default argument (1545401930.py, line 1)",
     "output_type": "error",
     "traceback": [
      "\u001b[0;36m  File \u001b[0;32m\"/tmp/ipykernel_1806184/1545401930.py\"\u001b[0;36m, line \u001b[0;32m1\u001b[0m\n\u001b[0;31m    def my_func(a, b=2, d, c=3):\u001b[0m\n\u001b[0m               ^\u001b[0m\n\u001b[0;31mSyntaxError\u001b[0m\u001b[0;31m:\u001b[0m non-default argument follows default argument\n"
     ]
    }
   ],
   "source": [
    "def my_func(a, b=2, d, c=3):\n",
    "    pass\n"
   ]
  },
  {
   "cell_type": "markdown",
   "metadata": {},
   "source": [
    "2. **При вызове функции**, поскольку оба типа аргументов – обязательные и необязательные – могут быть заданы как позиционные или как именованные, *первыми должны указываться позиционные*, и лишь затем – именованные. Смена порядка также приводит к ошибке:"
   ]
  },
  {
   "cell_type": "code",
   "execution_count": 35,
   "metadata": {
    "scrolled": true
   },
   "outputs": [
    {
     "ename": "SyntaxError",
     "evalue": "positional argument follows keyword argument (1684189952.py, line 5)",
     "output_type": "error",
     "traceback": [
      "\u001b[0;36m  File \u001b[0;32m\"/tmp/ipykernel_1806184/1684189952.py\"\u001b[0;36m, line \u001b[0;32m5\u001b[0m\n\u001b[0;31m    my_func(a=5, 4)\u001b[0m\n\u001b[0m                ^\u001b[0m\n\u001b[0;31mSyntaxError\u001b[0m\u001b[0;31m:\u001b[0m positional argument follows keyword argument\n"
     ]
    }
   ],
   "source": [
    "def my_func(a, b=1, d=2, c=3):\n",
    "    pass\n",
    "\n",
    "\n",
    "my_func(a=5, 4)\n"
   ]
  },
  {
   "cell_type": "markdown",
   "metadata": {},
   "source": [
    "### `*args` и `**kwargs` в аргументах функций\n",
    "\n",
    "Иногда необходимо написать функцию так, чтобы она могла принимать переменное количество аргументов в течение ее работы в коде. Например, если функция должна считать расстояния между частицами в системе с переменным числом этих частиц. Для таких случаев в определении функции после задания обязательных аргументов пишут два дополнительных:\n",
    "* `*args` – распаковывает или упаковывает неопределенное количество **позиционных** аргументов в кортеж с именем `args`\n",
    "* `**kwargs` – распаковывает или упаковывает неопределенное количество **именованных** аргументов в словарь с именем `kwargs`\n",
    "\n",
    "Данные аргументы могут быть и совершенно пустыми (являются таковыми по умолчанию).\n",
    "\n",
    "Пример:"
   ]
  },
  {
   "cell_type": "code",
   "execution_count": 36,
   "metadata": {},
   "outputs": [
    {
     "name": "stdout",
     "output_type": "stream",
     "text": [
      "Добро пожаловать, Иван Иванович!\n",
      "Добро пожаловать, Люк Скайуокер, гроза ситхов, магистр-джедай, сын Королевы Амидалы и Лорда Вейдера, Новая надежда этой Галактики!\n"
     ]
    }
   ],
   "source": [
    "def greet_me(name, *othernames, **titles):\n",
    "    print('Добро пожаловать', name,\n",
    "          *othernames, *titles.values(), sep=', ', end='!\\n' )\n",
    "\n",
    "\n",
    "greet_me('Иван Иванович')\n",
    "\n",
    "greet_me('Люк Скайуокер', \"гроза ситхов\", profession='магистр-джедай',\n",
    "         family='сын Королевы Амидалы и Лорда Вейдера',\n",
    "         special='Новая надежда этой Галактики')\n"
   ]
  },
  {
   "cell_type": "markdown",
   "metadata": {
    "id": "3NimTL8jcKdF"
   },
   "source": [
    "## Глобальные и локальные переменные, области видимости"
   ]
  },
  {
   "cell_type": "markdown",
   "metadata": {},
   "source": [
    "По отношению к телу функции, все переменные, определяемые в коде, делятся на два вида: глобальные и локальные – в зависимости от их области видимости.\n",
    "\n",
    "**Областью видимости** называется та часть кода, внутри которой выбранная переменная доступна для использования."
   ]
  },
  {
   "cell_type": "markdown",
   "metadata": {},
   "source": [
    "### Глобальные переменные"
   ]
  },
  {
   "cell_type": "markdown",
   "metadata": {
    "id": "91WheP9IcV61"
   },
   "source": [
    "Глобальными являются переменные, определенные вне тела функции, но которые можно использовать внутри него. Например:"
   ]
  },
  {
   "cell_type": "code",
   "execution_count": 37,
   "metadata": {
    "id": "baTm1up6ccrW"
   },
   "outputs": [
    {
     "name": "stdout",
     "output_type": "stream",
     "text": [
      "2\n"
     ]
    }
   ],
   "source": [
    "global_var = 2\n",
    "\n",
    "\n",
    "def global_test1():\n",
    "    a = global_var\n",
    "    print(a)\n",
    "\n",
    "\n",
    "global_test1()\n"
   ]
  },
  {
   "cell_type": "markdown",
   "metadata": {
    "id": "7rCg_dm6c3fg"
   },
   "source": [
    "В этом примере переменная `global_var` определена на самом верхнем уровне, вне функции `global_test1`."
   ]
  },
  {
   "cell_type": "markdown",
   "metadata": {},
   "source": [
    "### Локальные переменные"
   ]
  },
  {
   "cell_type": "markdown",
   "metadata": {
    "id": "N3By1LVKdiI2"
   },
   "source": [
    "В отличие от глобальной, переменная называется **локальной**, если она определена внутри тела функции. При этом область её видимости ограничивается лишь телом функции и всеми вложенными в неё областями видимости.\n",
    "\n",
    "При попытке обратиться к локальной переменной `var` вне тела функции `global_test2` в примере ниже интерпретатор выдаст ошибку:"
   ]
  },
  {
   "cell_type": "code",
   "execution_count": 38,
   "metadata": {},
   "outputs": [
    {
     "ename": "NameError",
     "evalue": "name 'var' is not defined",
     "output_type": "error",
     "traceback": [
      "\u001b[0;31m---------------------------------------------------------------------------\u001b[0m",
      "\u001b[0;31mNameError\u001b[0m                                 Traceback (most recent call last)",
      "\u001b[0;32m/tmp/ipykernel_1806184/3358624190.py\u001b[0m in \u001b[0;36m<module>\u001b[0;34m\u001b[0m\n\u001b[1;32m      4\u001b[0m \u001b[0;34m\u001b[0m\u001b[0m\n\u001b[1;32m      5\u001b[0m \u001b[0mglobal_test2\u001b[0m\u001b[0;34m(\u001b[0m\u001b[0;34m)\u001b[0m\u001b[0;34m\u001b[0m\u001b[0;34m\u001b[0m\u001b[0m\n\u001b[0;32m----> 6\u001b[0;31m \u001b[0mprint\u001b[0m\u001b[0;34m(\u001b[0m\u001b[0mvar\u001b[0m\u001b[0;34m)\u001b[0m\u001b[0;34m\u001b[0m\u001b[0;34m\u001b[0m\u001b[0m\n\u001b[0m",
      "\u001b[0;31mNameError\u001b[0m: name 'var' is not defined"
     ]
    }
   ],
   "source": [
    "def global_test2():\n",
    "    var = 5\n",
    "\n",
    "\n",
    "global_test2()\n",
    "print(var)\n"
   ]
  },
  {
   "cell_type": "markdown",
   "metadata": {},
   "source": [
    "Важно помнить, что все изменения локальной переменной ограничиваются лишь внутренней областью видимости самой функции, не затрагивая глобальную. По этой причине изменение локальной переменной, имеющей то же имя, что и некоторая глобальная переменная, не влияет на значение последней. Ниже приведен пример, демонстрирующей границы двух областей видимости:"
   ]
  },
  {
   "cell_type": "code",
   "execution_count": 39,
   "metadata": {},
   "outputs": [
    {
     "name": "stdout",
     "output_type": "stream",
     "text": [
      "3\n",
      "2\n"
     ]
    }
   ],
   "source": [
    "x = 2\n",
    "\n",
    "\n",
    "def global_test3():\n",
    "    x = 3\n",
    "    print(x)\n",
    "\n",
    "\n",
    "global_test3()     # вывод на печать локального  значения x\n",
    "print(global_var)  # вывод на печать глобального значения x\n"
   ]
  },
  {
   "cell_type": "markdown",
   "metadata": {},
   "source": [
    "Подобное поведение областей видимости, в частности, приводит к тому, что создание локальной переменной с тем же именем, что и глобальная переменная, приводит к уничтожению ссылки на последнюю во всем теле функции. Ниже приведен пример с подобной ошибкой. Попробуйте закомментировать вторую строчку в теле функции и объяснить отличие в результатах выполнения функции."
   ]
  },
  {
   "cell_type": "code",
   "execution_count": 40,
   "metadata": {
    "id": "VRDSLwvPcR6G"
   },
   "outputs": [
    {
     "ename": "UnboundLocalError",
     "evalue": "local variable 'global_var' referenced before assignment",
     "output_type": "error",
     "traceback": [
      "\u001b[0;31m---------------------------------------------------------------------------\u001b[0m",
      "\u001b[0;31mUnboundLocalError\u001b[0m                         Traceback (most recent call last)",
      "\u001b[0;32m/tmp/ipykernel_1806184/2296770867.py\u001b[0m in \u001b[0;36m<module>\u001b[0;34m\u001b[0m\n\u001b[1;32m      8\u001b[0m \u001b[0;34m\u001b[0m\u001b[0m\n\u001b[1;32m      9\u001b[0m \u001b[0;34m\u001b[0m\u001b[0m\n\u001b[0;32m---> 10\u001b[0;31m \u001b[0mglobal_test4\u001b[0m\u001b[0;34m(\u001b[0m\u001b[0;34m)\u001b[0m\u001b[0;34m\u001b[0m\u001b[0;34m\u001b[0m\u001b[0m\n\u001b[0m",
      "\u001b[0;32m/tmp/ipykernel_1806184/2296770867.py\u001b[0m in \u001b[0;36mglobal_test4\u001b[0;34m()\u001b[0m\n\u001b[1;32m      3\u001b[0m \u001b[0;34m\u001b[0m\u001b[0m\n\u001b[1;32m      4\u001b[0m \u001b[0;32mdef\u001b[0m \u001b[0mglobal_test4\u001b[0m\u001b[0;34m(\u001b[0m\u001b[0;34m)\u001b[0m\u001b[0;34m:\u001b[0m\u001b[0;34m\u001b[0m\u001b[0;34m\u001b[0m\u001b[0m\n\u001b[0;32m----> 5\u001b[0;31m     \u001b[0ma\u001b[0m \u001b[0;34m=\u001b[0m \u001b[0mglobal_var\u001b[0m\u001b[0;34m\u001b[0m\u001b[0;34m\u001b[0m\u001b[0m\n\u001b[0m\u001b[1;32m      6\u001b[0m     \u001b[0mglobal_var\u001b[0m \u001b[0;34m=\u001b[0m \u001b[0ma\u001b[0m\u001b[0;34m\u001b[0m\u001b[0;34m\u001b[0m\u001b[0m\n\u001b[1;32m      7\u001b[0m     \u001b[0mprint\u001b[0m\u001b[0;34m(\u001b[0m\u001b[0ma\u001b[0m\u001b[0;34m)\u001b[0m\u001b[0;34m\u001b[0m\u001b[0;34m\u001b[0m\u001b[0m\n",
      "\u001b[0;31mUnboundLocalError\u001b[0m: local variable 'global_var' referenced before assignment"
     ]
    }
   ],
   "source": [
    "global_var = 2\n",
    "\n",
    "\n",
    "def global_test4():\n",
    "    a = global_var\n",
    "    global_var = a\n",
    "    print(a)\n",
    "\n",
    "\n",
    "global_test4()\n"
   ]
  },
  {
   "cell_type": "markdown",
   "metadata": {},
   "source": [
    "### Изменение глобальных переменных в функции"
   ]
  },
  {
   "cell_type": "markdown",
   "metadata": {
    "id": "cURRq3fXgdh9"
   },
   "source": [
    "Для возможности изменения (а не просто использования) глобальной переменной изнутри функции необходимо объявить ее как глобальную внутри тела функции и указать ключевое слово `global` (см. пример ниже). Этот модификатор указывает интерпретатору, что область видимости переменной должна быть расширена до глобальной."
   ]
  },
  {
   "cell_type": "code",
   "execution_count": 41,
   "metadata": {
    "id": "QBkqFwBAgnzz"
   },
   "outputs": [
    {
     "name": "stdout",
     "output_type": "stream",
     "text": [
      "3\n",
      "3\n"
     ]
    }
   ],
   "source": [
    "global_var = 2\n",
    "\n",
    "\n",
    "def global_test5():\n",
    "    global global_var  # объявили переменную как глобальную\n",
    "    global_var = 3     # и изменили ее значение\n",
    "    print(global_var)\n",
    "\n",
    "\n",
    "global_test5()     # сначала должна напечататься global_var из функции\n",
    "print(global_var)  # а теперь - глобальная\n"
   ]
  },
  {
   "cell_type": "markdown",
   "metadata": {},
   "source": [
    "Важно помнить, что при определении функции использование имени глобальной переменной в качестве имени аргумента первая не изменится. Вместо этого в функции создаётся одноимённая локальная переменная с локальной областью видимости, как обсуждалось в примере выше."
   ]
  },
  {
   "cell_type": "code",
   "execution_count": 42,
   "metadata": {
    "id": "1AKvzNUEiK2S"
   },
   "outputs": [
    {
     "name": "stdout",
     "output_type": "stream",
     "text": [
      "6\n",
      "2\n"
     ]
    }
   ],
   "source": [
    "global_var = 2\n",
    "\n",
    "\n",
    "def global_test6(global_var):\n",
    "    global_var += 1\n",
    "    print(global_var)\n",
    "\n",
    "\n",
    "global_test6(5)    # сначала должна напечататься global_var из функции\n",
    "print(global_var)  # а теперь - глобальная\n"
   ]
  },
  {
   "cell_type": "markdown",
   "metadata": {},
   "source": [
    "### Нелокальные переменные"
   ]
  },
  {
   "cell_type": "markdown",
   "metadata": {},
   "source": [
    "Наряду с глобальной и локальной областями видимости переменной выделяют также **нелокальную**. \n",
    "\n",
    "Предположим, что у нас есть две функции, одна из которых (назовём её `g`) вложена в другую (её назовём `f`). Область видимости функции `f` для переменной, определенной внутри функции `g`, будет называться нелокальной.\n",
    "\n",
    "Нелокальная область видимости сходна с глобальной, однако располагается не на уровне основного кода (самый верхний уровень), а на уровне локальной области видимости вышестоящей функции, в которую вложена область видимости функции нижележащей.\n",
    "\n",
    "Для доступа и изменения значения переменной, определенной внутри нелокальной области видимости, изнутри вложенной функции, используется ключевое слово `nonlocal`.\n",
    "\n",
    "Ниже приведен пример использования всех трёх областей видимости."
   ]
  },
  {
   "cell_type": "code",
   "execution_count": 43,
   "metadata": {},
   "outputs": [
    {
     "name": "stdout",
     "output_type": "stream",
     "text": [
      "исходное значение var в основном коде: 2\n",
      "var внутри внешней функции: 3\n",
      "var из первой вложенной функции: 5\n",
      "var после вызова первой вложенной функции: 3\n",
      "var после вызова второй вложенной функции: 5\n",
      "var в основном коде после вызова внешней функции: 2\n"
     ]
    }
   ],
   "source": [
    "var = 2 # глобальное объявление переменной\n",
    "\n",
    "\n",
    "def global_test7():\n",
    "    var = 3  # локальное объявление переменной\n",
    "    print('var внутри внешней функции:', var)\n",
    "    \n",
    "    \n",
    "    def internal_func1():\n",
    "        var = 5\n",
    "        print(\"var из первой вложенной функции:\", var)\n",
    "    \n",
    "    \n",
    "    internal_func1()\n",
    "    print('var после вызова первой вложенной функции:', var)\n",
    "    \n",
    "    \n",
    "    def internal_func2():\n",
    "        nonlocal var  # расширяем область видимости var до global_test7\n",
    "        var = 5\n",
    "    \n",
    "    \n",
    "    internal_func2()\n",
    "    print('var после вызова второй вложенной функции:', var)\n",
    "\n",
    "\n",
    "print('исходное значение var в основном коде:', var)\n",
    "global_test7()\n",
    "print('var в основном коде после вызова внешней функции:', var)\n"
   ]
  },
  {
   "cell_type": "markdown",
   "metadata": {
    "id": "R1qBKWmfjSd6"
   },
   "source": [
    "Если же мы имеем дело с более сложными, изменяемыми, объектами, которые имеют ссылки на память, ситуация усложняется. При передаче подобного глобального обьекта в качестве аргумента функции внутри нее создается локальная ссылка на тот же самый объект. Тогда изменение этого объекта внутри функции приводит и к изменению глобального объекта.\n",
    "\n",
    "Рассмотрим в качестве примера глобальную переменную – массив `NumPy`, заполненный нулями:"
   ]
  },
  {
   "cell_type": "code",
   "execution_count": 44,
   "metadata": {
    "id": "OxRo8-XhiZsY"
   },
   "outputs": [
    {
     "data": {
      "text/plain": [
       "array([[0., 0., 0., ..., 0., 0., 0.],\n",
       "       [0., 0., 0., ..., 0., 0., 0.],\n",
       "       [0., 0., 0., ..., 0., 0., 0.],\n",
       "       ...,\n",
       "       [0., 0., 0., ..., 0., 0., 0.],\n",
       "       [0., 0., 0., ..., 0., 0., 0.],\n",
       "       [0., 0., 0., ..., 0., 0., 0.]])"
      ]
     },
     "execution_count": 44,
     "metadata": {},
     "output_type": "execute_result"
    }
   ],
   "source": [
    "import numpy as np\n",
    "\n",
    "big_array = np.zeros((100, 100))\n",
    "big_array\n"
   ]
  },
  {
   "cell_type": "markdown",
   "metadata": {},
   "source": [
    "А теперь напишем функцию, которая должна к первой строке передаваемого ей аргумента прибавлять единицу. Вызовем эту функцию с определенным нами выше массивом нулей и затем попросим интерпретатор вывести на печать этот массив."
   ]
  },
  {
   "cell_type": "code",
   "execution_count": 45,
   "metadata": {
    "id": "EfpCJ6_wiorN"
   },
   "outputs": [
    {
     "data": {
      "text/plain": [
       "array([[1., 1., 1., ..., 1., 1., 1.],\n",
       "       [0., 0., 0., ..., 0., 0., 0.],\n",
       "       [0., 0., 0., ..., 0., 0., 0.],\n",
       "       ...,\n",
       "       [0., 0., 0., ..., 0., 0., 0.],\n",
       "       [0., 0., 0., ..., 0., 0., 0.],\n",
       "       [0., 0., 0., ..., 0., 0., 0.]])"
      ]
     },
     "execution_count": 45,
     "metadata": {},
     "output_type": "execute_result"
    }
   ],
   "source": [
    "def global_test8(arr):\n",
    "    arr[0] += 1\n",
    "\n",
    "\n",
    "global_test8(big_array)\n",
    "big_array\n"
   ]
  },
  {
   "cell_type": "markdown",
   "metadata": {
    "id": "7qVgj_mAkMKW"
   },
   "source": [
    "Как можно видеть, ошибки не возникло, а массив изменился, хотя в теле функции мы не объявляли `big_array` как глобальную переменную.\n",
    "\n",
    "Данная проблема часто встречается при работе с массивами `NumPy`. Например, при выделении части массива в отдельную переменную и совершении некоторых манипуляций над ней. Изменение этой переменной может приводит к изменению самого массива, даже если он не задан как глобальный внутри функции. Для исключения подобных проблем используется модуль `copy`.\n",
    "\n",
    "Пример:"
   ]
  },
  {
   "cell_type": "code",
   "execution_count": 46,
   "metadata": {
    "id": "Uq_IkCh1lOfu"
   },
   "outputs": [
    {
     "data": {
      "text/plain": [
       "array([[1., 1., 1., ..., 1., 1., 1.],\n",
       "       [0., 0., 0., ..., 0., 0., 0.],\n",
       "       [0., 0., 0., ..., 0., 0., 0.],\n",
       "       ...,\n",
       "       [0., 0., 0., ..., 0., 0., 0.],\n",
       "       [0., 0., 0., ..., 0., 0., 0.],\n",
       "       [0., 0., 0., ..., 0., 0., 0.]])"
      ]
     },
     "execution_count": 46,
     "metadata": {},
     "output_type": "execute_result"
    }
   ],
   "source": [
    "import copy\n",
    "\n",
    "# ещё раз проверим содержимое массива\n",
    "big_array\n"
   ]
  },
  {
   "cell_type": "markdown",
   "metadata": {
    "id": "gpqa8u9umdLe"
   },
   "source": [
    "Теперь воспользуемся `copy` и встроенной в него одноименной функцией и создадим копию массива `big_array` при вызове функции `global_test8`:"
   ]
  },
  {
   "cell_type": "code",
   "execution_count": 47,
   "metadata": {
    "id": "hp-o1EVMlQBG"
   },
   "outputs": [
    {
     "data": {
      "text/plain": [
       "array([[1., 1., 1., ..., 1., 1., 1.],\n",
       "       [0., 0., 0., ..., 0., 0., 0.],\n",
       "       [0., 0., 0., ..., 0., 0., 0.],\n",
       "       ...,\n",
       "       [0., 0., 0., ..., 0., 0., 0.],\n",
       "       [0., 0., 0., ..., 0., 0., 0.],\n",
       "       [0., 0., 0., ..., 0., 0., 0.]])"
      ]
     },
     "execution_count": 47,
     "metadata": {},
     "output_type": "execute_result"
    }
   ],
   "source": [
    "global_test8(copy.copy(big_array)) # создается копия переменной big_array\n",
    "big_array\n"
   ]
  },
  {
   "cell_type": "markdown",
   "metadata": {},
   "source": [
    "Обратите внимание, что значение массива осталось без изменения! Тогда как повторный вызов функции без копирования..."
   ]
  },
  {
   "cell_type": "code",
   "execution_count": 48,
   "metadata": {
    "id": "53shAHcZmb-P"
   },
   "outputs": [
    {
     "data": {
      "text/plain": [
       "array([[2., 2., 2., ..., 2., 2., 2.],\n",
       "       [0., 0., 0., ..., 0., 0., 0.],\n",
       "       [0., 0., 0., ..., 0., 0., 0.],\n",
       "       ...,\n",
       "       [0., 0., 0., ..., 0., 0., 0.],\n",
       "       [0., 0., 0., ..., 0., 0., 0.],\n",
       "       [0., 0., 0., ..., 0., 0., 0.]])"
      ]
     },
     "execution_count": 48,
     "metadata": {},
     "output_type": "execute_result"
    }
   ],
   "source": [
    "global_test8(big_array)\n",
    "big_array\n"
   ]
  },
  {
   "cell_type": "markdown",
   "metadata": {},
   "source": [
    "снова приведет к перезаписи массива."
   ]
  },
  {
   "cell_type": "markdown",
   "metadata": {},
   "source": [
    "То же касается использования изменяемых объектов в качестве *необязательных аргументов* функции. Оставляем вам это на самостоятельное изучение. Очень поучительная история и яркий пример такой ситуации приведены [здесь](https://florimond.dev/en/posts/2018/08/python-mutable-defaults-are-the-source-of-all-evil/) – рекомендуем ознакомиться."
   ]
  }
 ],
 "metadata": {
  "colab": {
   "authorship_tag": "ABX9TyNWh5Q/p/m1NdgGxV2Gt/Mm",
   "collapsed_sections": [
    "PZWjLIYCoPjd"
   ],
   "name": "Неделя_7_Степаненко_Горкунов_определение_функции.ipynb",
   "provenance": []
  },
  "kernelspec": {
   "display_name": "Python 3 (ipykernel)",
   "language": "python",
   "name": "python3"
  },
  "language_info": {
   "codemirror_mode": {
    "name": "ipython",
    "version": 3
   },
   "file_extension": ".py",
   "mimetype": "text/x-python",
   "name": "python",
   "nbconvert_exporter": "python",
   "pygments_lexer": "ipython3",
   "version": "3.7.10"
  }
 },
 "nbformat": 4,
 "nbformat_minor": 4
}
