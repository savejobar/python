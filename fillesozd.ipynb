{
 "cells": [
  {
   "cell_type": "code",
   "execution_count": 40,
   "id": "86d1d04e",
   "metadata": {},
   "outputs": [
    {
     "name": "stdout",
     "output_type": "stream",
     "text": [
      "1048576\n"
     ]
    }
   ],
   "source": [
    "import os\n",
    "\n",
    "filename = \"random_1GB.bin\"\n",
    "size = 1 * 1024 * 1024 # 1 ГБ\n",
    "chunk_size = 100 * 1024  # пишем по 100 МБ за раз\n",
    "\n",
    "with open(filename, \"wb\") as f:\n",
    "    for i in range(size // chunk_size):\n",
    "        f.write(os.urandom(chunk_size))\n",
    "    remaining = size % chunk_size\n",
    "    if remaining:\n",
    "        f.write(os.urandom(remaining))\n",
    "with open(filename, \"rb\") as f:\n",
    "    B = f.read()\n",
    "\n",
    "count = 0\n",
    "numbers = list(B) # первые 100 байт, чтобы не захламлять экран\n",
    "for i in numbers:\n",
    "    if B[0] > B[1]:\n",
    "        count += 1\n",
    "    elif B[i] > B[i-1] and B[i] > B[i+1]:\n",
    "        count += 1\n",
    "print(count)"
   ]
  },
  {
   "cell_type": "code",
   "execution_count": null,
   "id": "c2588003",
   "metadata": {},
   "outputs": [],
   "source": []
  }
 ],
 "metadata": {
  "kernelspec": {
   "display_name": "Python 3",
   "language": "python",
   "name": "python3"
  },
  "language_info": {
   "codemirror_mode": {
    "name": "ipython",
    "version": 3
   },
   "file_extension": ".py",
   "mimetype": "text/x-python",
   "name": "python",
   "nbconvert_exporter": "python",
   "pygments_lexer": "ipython3",
   "version": "3.11.9"
  }
 },
 "nbformat": 4,
 "nbformat_minor": 5
}
