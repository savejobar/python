{
 "cells": [
  {
   "cell_type": "code",
   "execution_count": 123,
   "id": "0b6a5568",
   "metadata": {},
   "outputs": [
    {
     "name": "stdout",
     "output_type": "stream",
     "text": [
      "Muavra:\n",
      "(2+1.7320508075688772j)^3 = -10.0000+15.5885j\n",
      "NetuMU:\n",
      "(2+1.7320508075688772j)^3 = -10.0000+15.5885j\n",
      "Koren_0:\n",
      "(2+1.7320508075688772j)^3 = 1.3441+0.3260j\n",
      "Koren_1:\n",
      "(2+1.7320508075688772j)^3 = -0.9543+1.0011j\n",
      "Koren_2:\n",
      "(2+1.7320508075688772j)^3 = -0.3898-1.3270j\n"
     ]
    }
   ],
   "source": [
    "import math as m\n",
    "\n",
    "n = 3\n",
    "b = complex(2,m.sqrt(3))\n",
    "r = abs(b)\n",
    "tetta = m.atan2(b.imag, b.real)\n",
    "Real = (r**n)*m.cos(n*tetta)\n",
    "Imag = (r**n)*m.sin(n*tetta)\n",
    "print(f\"Muavra:\\n{b}^{n} = {complex(Real,Imag):.4f}\")\n",
    "print(f\"NetuMU:\\n{b}^{n} = {b**n:.4f}\")\n",
    "for k in range (n):\n",
    "    Real1 = (r**(1/n))*m.cos((tetta+2*m.pi*k)/n)\n",
    "    Imag1 = (r**(1/n))*m.sin((tetta+2*m.pi*k)/n)\n",
    "    print(f\"Koren_{k}:\\n{b}^{n} = {complex(Real1,Imag1):.4f}\")"
   ]
  },
  {
   "cell_type": "code",
   "execution_count": 119,
   "id": "a3cd1cc3",
   "metadata": {},
   "outputs": [
    {
     "name": "stdout",
     "output_type": "stream",
     "text": [
      "2.3040000000000006e-28\n",
      "9000000000.0\n"
     ]
    }
   ],
   "source": [
    "F = (9*10**9)*(1.6*10**(-19))*(1.6*10**(-19))/1*1\n",
    "print(F)\n",
    "F = (9*10**9)*(1)*(1)/1*1\n",
    "print(F)"
   ]
  }
 ],
 "metadata": {
  "kernelspec": {
   "display_name": "Python 3",
   "language": "python",
   "name": "python3"
  },
  "language_info": {
   "codemirror_mode": {
    "name": "ipython",
    "version": 3
   },
   "file_extension": ".py",
   "mimetype": "text/x-python",
   "name": "python",
   "nbconvert_exporter": "python",
   "pygments_lexer": "ipython3",
   "version": "3.11.9"
  }
 },
 "nbformat": 4,
 "nbformat_minor": 5
}
