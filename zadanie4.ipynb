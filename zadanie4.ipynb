{
 "cells": [
  {
   "cell_type": "code",
   "execution_count": null,
   "id": "a9e04b66",
   "metadata": {},
   "outputs": [
    {
     "ename": "TypeError",
     "evalue": "list.count() takes exactly one argument (0 given)",
     "output_type": "error",
     "traceback": [
      "\u001b[31m---------------------------------------------------------------------------\u001b[39m",
      "\u001b[31mTypeError\u001b[39m                                 Traceback (most recent call last)",
      "\u001b[36mCell\u001b[39m\u001b[36m \u001b[39m\u001b[32mIn[254]\u001b[39m\u001b[32m, line 10\u001b[39m\n\u001b[32m      8\u001b[39m list2 = [random.choice(\u001b[33m'\u001b[39m\u001b[33m0123456789abcdefghijklmnopqrstuvwxyzABCDEFGHIJKLMNOPQRSTUVWXYZ\u001b[39m\u001b[33m'\u001b[39m) \u001b[38;5;28;01mfor\u001b[39;00m i \u001b[38;5;129;01min\u001b[39;00m \u001b[38;5;28mrange\u001b[39m(m)]\n\u001b[32m      9\u001b[39m list3 = \u001b[38;5;28mset\u001b[39m(list1) & \u001b[38;5;28mset\u001b[39m(list2)\n\u001b[32m---> \u001b[39m\u001b[32m10\u001b[39m b = \u001b[38;5;28;43mlist\u001b[39;49m\u001b[43m(\u001b[49m\u001b[43mlist3\u001b[49m\u001b[43m)\u001b[49m\u001b[43m.\u001b[49m\u001b[43mcount\u001b[49m\u001b[43m(\u001b[49m\u001b[43m)\u001b[49m\n\u001b[32m     11\u001b[39m \u001b[38;5;28mprint\u001b[39m(list1)\n\u001b[32m     12\u001b[39m \u001b[38;5;28mprint\u001b[39m(list2)\n",
      "\u001b[31mTypeError\u001b[39m: list.count() takes exactly one argument (0 given)"
     ]
    }
   ],
   "source": [
    "\"\"\" Напишите программу, создающую два списка, заполненных случайным набором элементов \n",
    "(используются цифры и латинские буквы). Выведите на печать элементы, общие для двух списков. \n",
    "Подсказка: для построения финального списка используйте множества. \"\"\"\n",
    "import random\n",
    "n = 5\n",
    "m = 6\n",
    "list1 = [random.choice('0123456789abcdefghijklmnopqrstuvwxyzABCDEFGHIJKLMNOPQRSTUVWXYZ') for i in range(n)]\n",
    "list2 = [random.choice('0123456789abcdefghijklmnopqrstuvwxyzABCDEFGHIJKLMNOPQRSTUVWXYZ') for i in range(m)]\n",
    "list3 = set(list1) & set(list2)\n",
    "print(list1)\n",
    "print(list2)\n",
    "if list3:\n",
    "    print(list3)\n",
    "else:\n",
    "    print('Совпадений нет')\n",
    "\n"
   ]
  },
  {
   "cell_type": "code",
   "execution_count": null,
   "id": "c8942f03",
   "metadata": {},
   "outputs": [],
   "source": [
    "import random\n",
    "\n",
    "list1 = []\n",
    "aux = {}\n",
    "num_of_zeros = 0\n",
    "num_of_ones = 0\n",
    "m = 15\n",
    "for i in range(m):\n",
    "    list1.append(random.randint(0,9))\n",
    "    if list1[i] == 0:\n",
    "        num_of_zeros += 1\n",
    "    elif list1[i] == 1:\n",
    "        num_of_ones += 1\n",
    "\n",
    "print(list1)\n",
    "print(f\"Вероятность нулей: {num_of_zeros*100/m:4.1f}%\")\n",
    "print(f\"Вероятность едениц:{num_of_ones*100/m:4.1f}%\")\n"
   ]
  },
  {
   "cell_type": "code",
   "execution_count": null,
   "id": "8362f2b4",
   "metadata": {},
   "outputs": [
    {
     "name": "stdout",
     "output_type": "stream",
     "text": [
      "[16, 10, -12]\n",
      "22.360679774997898\n",
      "11.180339887498949\n"
     ]
    }
   ],
   "source": [
    "x = random.random()\n",
    "y = m.degrees(x)\n",
    "A = [2, 4, 6]\n",
    "B = [4, 2, 7]\n",
    "C = [A[1]*B[2] - A[2]*B[1], B[0]*A[2] - A[0]*B[2], A[0]*B[1] - A[1]*B[0]]\n",
    "print(C)\n",
    "print(m.sqrt(C[0]*C[0]+C[1]*C[1]+C[2]*C[2]))\n",
    "print(m.sqrt(C[0]*C[0]+C[1]*C[1]+C[2]*C[2])*0.5)"
   ]
  },
  {
   "cell_type": "code",
   "execution_count": 197,
   "id": "20c48432",
   "metadata": {},
   "outputs": [
    {
     "name": "stdout",
     "output_type": "stream",
     "text": [
      "['g', 'e', '#', 'w', '3', 'g', '3', '@']\n",
      "['c', 'e', 'Z', 'y', 'l', 'M']\n",
      "{'e'}\n"
     ]
    }
   ],
   "source": [
    "list1 = []\n",
    "for i in range (random.randint(1,10)):\n",
    "    list1.append(random.choice('1ggwe21231!@#$@'))\n",
    "print(list1) \n",
    "list2 = []\n",
    "for i in range (random.randint(1,15)):\n",
    "    list2.append(random.choice(string.digits + string.ascii_letters))\n",
    "print(list2) \n",
    "list3 = []\n",
    "for i in list1:\n",
    "    for j in list2:\n",
    "        if i == j:\n",
    "            list3.append(i)\n",
    "if list3:\n",
    "    print(set(list3))\n",
    "else:\n",
    "    print (\"Совпадений нет\")"
   ]
  }
 ],
 "metadata": {
  "kernelspec": {
   "display_name": "Python 3",
   "language": "python",
   "name": "python3"
  },
  "language_info": {
   "codemirror_mode": {
    "name": "ipython",
    "version": 3
   },
   "file_extension": ".py",
   "mimetype": "text/x-python",
   "name": "python",
   "nbconvert_exporter": "python",
   "pygments_lexer": "ipython3",
   "version": "3.11.9"
  }
 },
 "nbformat": 4,
 "nbformat_minor": 5
}
