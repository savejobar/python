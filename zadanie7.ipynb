{
 "cells": [
  {
   "cell_type": "code",
   "execution_count": 136,
   "id": "5d7ff953",
   "metadata": {},
   "outputs": [
    {
     "name": "stdout",
     "output_type": "stream",
     "text": [
      "False\n"
     ]
    }
   ],
   "source": [
    "def funk(N):\n",
    "    if not isinstance(N, int):\n",
    "        return None\n",
    "    if N <= 0 or N > 1000:\n",
    "        return None\n",
    "    if N % 5 == 0:\n",
    "        return True\n",
    "    x = N\n",
    "    while x >= 3:\n",
    "        if x % 3 == 0:\n",
    "            return True\n",
    "        \n",
    "        x -= 5\n",
    "\n",
    "    return False\n",
    "    \n",
    "print(funk(7))"
   ]
  },
  {
   "cell_type": "code",
   "execution_count": 137,
   "id": "27d8ae94",
   "metadata": {},
   "outputs": [
    {
     "data": {
      "text/plain": [
       "[6, 3, 10, 5, 16, 8, 4, 2, 1]"
      ]
     },
     "execution_count": 137,
     "metadata": {},
     "output_type": "execute_result"
    }
   ],
   "source": [
    "def Kolats(n):\n",
    "    if not isinstance(n, int):\n",
    "        return None\n",
    "    elif n <= 0:\n",
    "        return None\n",
    "    seq = [n]\n",
    "    while n > 1:\n",
    "        if n % 2:\n",
    "            n = n*3 + 1\n",
    "        else:\n",
    "           n //= 2\n",
    "        seq.append(n)\n",
    "    return seq\n",
    "\n",
    "Kolats(6)"
   ]
  }
 ],
 "metadata": {
  "kernelspec": {
   "display_name": "Python 3",
   "language": "python",
   "name": "python3"
  },
  "language_info": {
   "codemirror_mode": {
    "name": "ipython",
    "version": 3
   },
   "file_extension": ".py",
   "mimetype": "text/x-python",
   "name": "python",
   "nbconvert_exporter": "python",
   "pygments_lexer": "ipython3",
   "version": "3.11.9"
  }
 },
 "nbformat": 4,
 "nbformat_minor": 5
}
