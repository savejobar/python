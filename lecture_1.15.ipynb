{
 "cells": [
  {
   "cell_type": "markdown",
   "metadata": {
    "id": "BhlVFdEm4zhP"
   },
   "source": [
    "### Обработка входных данных. Конфигурационные файлы. Модули JSON и YAML.  \n",
    "\n",
    "В ряде задач необходимо использовать входные данные различного объема и формата. Также для достижения высокого уровня автоматизации может быть удобно использовать специальные конфигурационные файлы, в которых определен набор входных параметров. Рассмотрим несколько часто встречающихся форматов конфигурационных файлов.\n"
   ]
  },
  {
   "cell_type": "markdown",
   "metadata": {
    "id": "WdmBX7B04zhZ"
   },
   "source": [
    "### 1. Формат JSON\n",
    "\n",
    "**JSON (JavaScript Object Notation)** - современный и широко распространенный текстовый формат хранения и обмена данных. Его преимуществом является возможность хранения данных следующих нескольких типов: int, float, bool, string, list, dict, null. Стандартная библиотека `json` позволяет легко читать и записывать любые json файлы. "
   ]
  },
  {
   "cell_type": "code",
   "execution_count": null,
   "metadata": {
    "colab": {
     "base_uri": "https://localhost:8080/"
    },
    "id": "_nArCoPU4zha",
    "outputId": "cc95ac95-5302-4f0b-cab4-3b0d8307e602"
   },
   "outputs": [
    {
     "name": "stdout",
     "output_type": "stream",
     "text": [
      "{\"string\": \"some strange string\", \"int\": 42, \"float\": -3.141592653589793, \"bool\": true, \"none\": null, \"list\": [1, 2, 3, 4, 5.0, \"6\", \"rgddddd\", false], \"dict\": {\"1\": 1, \"2\": true, \"3\": null, \"4\": \"qwerty\"}}\n",
      "{\n",
      "    \"string\": \"some strange string\",\n",
      "    \"int\": 42,\n",
      "    \"float\": -3.141592653589793,\n",
      "    \"bool\": true,\n",
      "    \"none\": null,\n",
      "    \"list\": [\n",
      "        1,\n",
      "        2,\n",
      "        3,\n",
      "        4,\n",
      "        5.0,\n",
      "        \"6\",\n",
      "        \"rgddddd\",\n",
      "        false\n",
      "    ],\n",
      "    \"dict\": {\n",
      "        \"1\": 1,\n",
      "        \"2\": true,\n",
      "        \"3\": null,\n",
      "        \"4\": \"qwerty\"\n",
      "    }\n",
      "}\n",
      "\n",
      "Type: <class 'dict'>\n",
      "{'string': 'some strange string', 'int': 42, 'float': -3.141592653589793, 'bool': True, 'none': None, 'list': [1, 2, 3, 4, 5.0, '6', 'rgddddd', False], 'dict': {'1': 1, '2': True, '3': None, '4': 'qwerty'}}\n"
     ]
    }
   ],
   "source": [
    "import math\n",
    "import json\n",
    "import os \n",
    "\n",
    "# Создадим некоторый набор данных:\n",
    "some_data = {\n",
    "    'string': 'some strange string',\n",
    "    'int': 42,\n",
    "    'float': -math.pi,\n",
    "    'bool': True,\n",
    "    'none': None,\n",
    "    'list': [1, 2, 3, 4, 5.0, '6', 'rgddddd', False],\n",
    "    'dict': {\n",
    "        '1': 1,\n",
    "        '2': True,\n",
    "        '3': None,\n",
    "        '4': 'qwerty'\n",
    "    }\n",
    "}\n",
    "\n",
    "# Можно сконвертировать этот набор данных в json-строку:\n",
    "print(json.dumps(some_data))\n",
    "# То же самое, но удобнее для восприятия:\n",
    "print(json.dumps(some_data, indent=4), end='\\n\\n')\n",
    "\n",
    "# Запись данных в файл:\n",
    "with open(os.path.join('./data', 'data.json'), 'w') as file:\n",
    "    json.dump(some_data, file)\n",
    "\n",
    "# Прочитаем данные из файла и выведем в консоль:\n",
    "with open(os.path.join('data', 'data.json')) as file:\n",
    "    data_from_file = json.load(file)\n",
    "print(f'Type: {type(data_from_file)}')\n",
    "print(data_from_file)"
   ]
  },
  {
   "cell_type": "markdown",
   "metadata": {
    "id": "GxCnZJu94zhc"
   },
   "source": [
    "### 2. Формат YAML\n",
    "\n",
    "**YAML (Yet Another Markup Language)** - ещё один современный текстовый формат хранения и обмена данных, который по своим свойствам аналогичен json. Для работы с `yaml` файлами необходима сторонняя библиотека `pyyaml`: "
   ]
  },
  {
   "cell_type": "code",
   "execution_count": null,
   "metadata": {
    "colab": {
     "base_uri": "https://localhost:8080/"
    },
    "id": "8oypTPLV4zhc",
    "outputId": "8f208bc7-f45f-4893-fdad-654eb5c3d8c5"
   },
   "outputs": [
    {
     "name": "stdout",
     "output_type": "stream",
     "text": [
      "Looking in indexes: https://pypi.org/simple, https://us-python.pkg.dev/colab-wheels/public/simple/\n",
      "Requirement already satisfied: pyyaml in /usr/local/lib/python3.7/dist-packages (6.0)\n"
     ]
    }
   ],
   "source": [
    "!pip install pyyaml"
   ]
  },
  {
   "cell_type": "code",
   "execution_count": null,
   "metadata": {
    "colab": {
     "base_uri": "https://localhost:8080/"
    },
    "id": "s26vn2PC4zhe",
    "outputId": "e5895d6d-99fc-4ff6-c1ba-79584c065775"
   },
   "outputs": [
    {
     "name": "stdout",
     "output_type": "stream",
     "text": [
      "{'bool': True,\n",
      " 'dict': {'1': 1, '2': True, '3': None, '4': 'qwerty'},\n",
      " 'float': -3.141592653589793,\n",
      " 'int': 42,\n",
      " 'list': [1, 2, 3, 4, 5.0, '6', 'rgddddd', False],\n",
      " 'none': None,\n",
      " 'string': 'some strange string'}\n"
     ]
    }
   ],
   "source": [
    "import yaml\n",
    "import pprint\n",
    "\n",
    "with open(os.path.join('data', 'data.yaml'), 'w') as file:\n",
    "    yaml.dump(some_data, file)\n",
    "\n",
    "with open(os.path.join('data', 'data.yaml')) as file:\n",
    "    obj = yaml.safe_load(file)\n",
    "    pprint.pprint(obj)"
   ]
  },
  {
   "cell_type": "markdown",
   "metadata": {
    "id": "KtK1gWhoDOxR"
   },
   "source": [
    "### Цели создания\n",
    "\n",
    "На сегодняшний день существует множество вариантов создания конфигурационных файлов. Одни подходят к системе Windows, другие нет. Одни имеют возможность для задания более тонких настроек проектов, но имеют довольно непонятный и громозкий синтаксис. Другие наоборот, в угоду более наглядному и простому обращению оказываются не способными поддерживать большие проекты. Сообщество разработчиков устало от «зоопарка» различных форматов для конфигов, им хотелось упростить себе жизнь и прийти к единому понятному формату. И в 2001 году Кларк Эванс создал YAML 1.0.\n",
    "\n",
    "Его основные цели:\n",
    "\n",
    "    1. быть понятным человеку;\n",
    "    2. поддерживать структуры данных, родные для языков программирования;\n",
    "    3. быть переносимым между языками программирования;\n",
    "    4. использовать цельную модель данных для поддержки обычного инструментария;\n",
    "    5. поддерживать потоковую обработку;\n",
    "    6. быть выразительным и расширяемым;\n",
    "    7. быть лёгким в реализации и использовании.\n"
   ]
  },
  {
   "cell_type": "markdown",
   "metadata": {
    "id": "PkG171cZDfua"
   },
   "source": [
    "### YAML vs. JSON\n",
    "\n",
    "По сути YAML — это расширенная версия известного нам формата JSON.\n",
    "\n",
    "у JSON-формата есть некоторые ограничения:\n",
    "\n",
    "* нельзя создавать переменные;\n",
    "* нельзя использовать внешние переменные (например, переменные окружения);\n",
    "* нельзя переопределять значения.\n",
    "\n",
    "\n",
    "Чтобы смягчить эти ограничения, можно заменить переменные с помощью создания JSON-файлов. Но в других языках программирования это не вариант, поэтому YAML и стал так популярен."
   ]
  },
  {
   "cell_type": "code",
   "execution_count": null,
   "metadata": {
    "colab": {
     "base_uri": "https://localhost:8080/"
    },
    "id": "fQcUFpQ5Ipp8",
    "outputId": "af9cde2d-b3b5-4449-cfa0-4591699d1ec5"
   },
   "outputs": [
    {
     "name": "stdout",
     "output_type": "stream",
     "text": [
      "{'book': [25, 12, ['l', 'r', 't'], ['90, 90']], 'books': ['dg', 56]}\n"
     ]
    }
   ],
   "source": [
    "with open(os.path.join('data', 'ex1.yaml')) as file:\n",
    "    obj = yaml.safe_load(file)\n",
    "    pprint.pprint(obj)"
   ]
  },
  {
   "cell_type": "markdown",
   "metadata": {
    "id": "GWzO6LIDR7Ma"
   },
   "source": [
    "### Базовый синтаксис\n",
    "\n",
    "Синтаксис YAML прост и лаконичен, но есть несколько особенностей. Практически каждый YAML-файл строится на базе списка. Каждый элемент списка это список пар «ключ-значение», который обычно называют словарем. То есть представление модели объекта с помощью YAML сводится к тому, чтобы описать эту модель в терминах списков и словарей.\n",
    "\n",
    "Иногда YAML-файлы начинаются с тройного тире `---` и заканчиваются троеточием `...`, а иногда эти последовательности символов в начале и в конце файла опускают. PyYAML корректно работает в обоих случаях.\n",
    "\n",
    "Все элементы списка располагаются на одном и том же уровне и начинаются с `- `(тире и пробел). \n",
    "\n",
    "Также можно оставлять комментарии через символ `#`:\n",
    "\n",
    "\n",
    "```yaml      \n",
    "--- # Начало файла\n",
    "# Список фруктов\n",
    "- Apple\n",
    "- Orange\n",
    "- Strawberry\n",
    "- Mango\n",
    "... # Конец файла\n",
    "```\n",
    "\n",
    "YAML поддерживает стандартные типы данных: целочисленный (`int`), вещественный (`float`), булев (`bool`), строковый (`string`) и `null`. При необходимости их можно явно указывать с помощью следующей конструкции\n",
    "`!!type`:\n",
    "```yaml\n",
    "exp: !!float 2.718281828459045\n",
    "num: !!int 10\n",
    "name: !!string bob\n",
    "```\n",
    "\n",
    "\n",
    "#### Якорь (переменная или ссылка)\n",
    "\n",
    "Якорь — это механизм для создания переменных, на которые затем можно ссылаться.\n",
    "\n",
    "```yaml\n",
    "---\n",
    "base-config: &base\n",
    "  width: 640\n",
    "  height: 480\n",
    "\n",
    "image1: \n",
    "  <<: *base\n",
    "  color: red\n",
    "...\n",
    "\n",
    "```\n",
    "\n",
    "\n",
    "\n",
    "Более подробно об особенностях и возможностях синтаксиса [yaml](https://proglib.io/p/konfiguracionnye-fayly-kak-instrument-upravleniya-prilozheniyami-na-python-2021-06-11)\n"
   ]
  },
  {
   "cell_type": "code",
   "execution_count": null,
   "metadata": {
    "colab": {
     "base_uri": "https://localhost:8080/"
    },
    "id": "ViDOC4O2R6uG",
    "outputId": "52b427be-24e9-4447-91af-48eb98d2a4ca"
   },
   "outputs": [
    {
     "name": "stdout",
     "output_type": "stream",
     "text": [
      "{'base-config': {'height': 480, 'width': 640},\n",
      " 'image1': {'color': 'red', 'height': 480, 'width': 640}}\n"
     ]
    }
   ],
   "source": [
    "with open(os.path.join('data', 'ex2.yaml')) as file:\n",
    "    obj = yaml.safe_load(file)\n",
    "    pprint.pprint(obj)"
   ]
  },
  {
   "cell_type": "markdown",
   "metadata": {
    "id": "TUTGSlJuqkGF"
   },
   "source": [
    "## Конфигурация проекта \n",
    "\n",
    "Рассмотрим небольшой пример того, как можно с помощью конфигурационного файла задать настройки для проекта на `python`.\n",
    "\n",
    "Пусть наш проект будет иметь следующую структуру:\n",
    "\n",
    "```\n",
    "project/\n",
    "    --> settings/\n",
    "        - config.yaml\n",
    "    --> pictures/ \n",
    "    --> py_files/\n",
    "        - main.py  \n",
    "        - parser.py\n",
    "```\n",
    "Файл `parser.py` содержит в себе функцию для считывания конфигурационного файла.\n",
    "Файл  `main.py` - это основной файл программы. Соответственно, в нем будут запускаться основные функции и из него будут сохраняться результаты в папку `pictures`.\n",
    "\n",
    "\n",
    "Чтобы запустить программу достаточно из директории `project` выполнить следующую команду:\n",
    "\n",
    "```bash\n",
    "python ./py_files/main.py\n",
    "```\n"
   ]
  }
 ],
 "metadata": {
  "colab": {
   "provenance": []
  },
  "kernelspec": {
   "display_name": "Python 3 (ipykernel)",
   "language": "python",
   "name": "python3"
  },
  "language_info": {
   "codemirror_mode": {
    "name": "ipython",
    "version": 3
   },
   "file_extension": ".py",
   "mimetype": "text/x-python",
   "name": "python",
   "nbconvert_exporter": "python",
   "pygments_lexer": "ipython3",
   "version": "3.9.7"
  }
 },
 "nbformat": 4,
 "nbformat_minor": 0
}
