{
 "cells": [
  {
   "cell_type": "code",
   "execution_count": 32,
   "id": "8fa4adf5",
   "metadata": {},
   "outputs": [
    {
     "name": "stdout",
     "output_type": "stream",
     "text": [
      "l1/l2--0.36--0.18--0.50\t"
     ]
    }
   ],
   "source": [
    "N1 = 50\n",
    "N2 = 30\n",
    "dl = 0.32\n",
    "l2 = (N1*N1*dl)/(N1*N1-N2*N2)\n",
    "l1 = l2 - dl\n",
    "print (f\"l1/l2--{l1/l2:.2f}--{l1:.2f}--{l2:.2f}\", end=\"\\t\")"
   ]
  },
  {
   "cell_type": "markdown",
   "id": "e73b12b2",
   "metadata": {},
   "source": []
  }
 ],
 "metadata": {
  "kernelspec": {
   "display_name": "Python 3",
   "language": "python",
   "name": "python3"
  },
  "language_info": {
   "codemirror_mode": {
    "name": "ipython",
    "version": 3
   },
   "file_extension": ".py",
   "mimetype": "text/x-python",
   "name": "python",
   "nbconvert_exporter": "python",
   "pygments_lexer": "ipython3",
   "version": "3.11.9"
  }
 },
 "nbformat": 4,
 "nbformat_minor": 5
}
