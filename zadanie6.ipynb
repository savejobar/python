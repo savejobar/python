{
 "cells": [
  {
   "cell_type": "code",
   "execution_count": 272,
   "id": "86d1d04e",
   "metadata": {},
   "outputs": [
    {
     "name": "stdout",
     "output_type": "stream",
     "text": [
      "e^x = 23.023\n",
      "sin(x) = -7.7279e-07\n"
     ]
    }
   ],
   "source": [
    "import math as m\n",
    "import numpy as np\n",
    "import random\n",
    "\n",
    "def approx(x,n):\n",
    "    sum = 0\n",
    "    for i in range(n):\n",
    "        sum += pow(x,i)/m.factorial(i)\n",
    "    print(f'e^x = {sum:.5}')\n",
    "    sum = 0\n",
    "    for i in range(1,n):\n",
    "        sum += pow((-1),i-1)*pow(x,(2*i-1))/m.factorial((2*i-1))\n",
    "    print(f'sin(x) = {sum:.5}')\n",
    "\n",
    "approx(m.pi,9)"
   ]
  },
  {
   "cell_type": "code",
   "execution_count": 268,
   "id": "d8a82156",
   "metadata": {},
   "outputs": [
    {
     "name": "stdout",
     "output_type": "stream",
     "text": [
      "Верно\n"
     ]
    }
   ],
   "source": [
    "def tojdestvo(x):\n",
    "    if (m.sin(x)*m.sin(x) + m.cos(x)*m.cos(x)) == 1:\n",
    "        print('Верно')\n",
    "    else:\n",
    "        print('Неверно')\n",
    "    return None\n",
    "\n",
    "tojdestvo(5+3*i)"
   ]
  },
  {
   "cell_type": "code",
   "execution_count": 371,
   "id": "3cd72cee",
   "metadata": {},
   "outputs": [
    {
     "name": "stdout",
     "output_type": "stream",
     "text": [
      "[ 0  8  6 10  5  7  6 10]\n",
      "avg = 6.5\n",
      "sigma = 3.4641016151377544\n"
     ]
    }
   ],
   "source": [
    "A = np.ndarray((random.randint(2,10)), dtype = int)\n",
    "\n",
    "for i in range(len(A)):\n",
    "    A[i] = random.randint(0,10)\n",
    "\n",
    "def srkv(B):\n",
    "    sum = 0\n",
    "    z = 0\n",
    "    avg = np.mean(B)\n",
    "    sigma = np.std(B, ddof=2)\n",
    "    print(f'avg = {avg}\\nsigma = {sigma}')\n",
    "\n",
    "print(A)\n",
    "srkv(A)"
   ]
  }
 ],
 "metadata": {
  "kernelspec": {
   "display_name": "Python 3",
   "language": "python",
   "name": "python3"
  },
  "language_info": {
   "codemirror_mode": {
    "name": "ipython",
    "version": 3
   },
   "file_extension": ".py",
   "mimetype": "text/x-python",
   "name": "python",
   "nbconvert_exporter": "python",
   "pygments_lexer": "ipython3",
   "version": "3.11.9"
  }
 },
 "nbformat": 4,
 "nbformat_minor": 5
}
